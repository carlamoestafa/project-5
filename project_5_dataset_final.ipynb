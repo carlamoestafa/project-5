{
 "cells": [
  {
   "cell_type": "markdown",
   "metadata": {},
   "source": [
    "# DATASET"
   ]
  },
  {
   "cell_type": "markdown",
   "metadata": {},
   "source": [
    "## Raw image data checking"
   ]
  },
  {
   "cell_type": "code",
   "execution_count": 84,
   "metadata": {},
   "outputs": [],
   "source": [
    "import numpy as np\n",
    "from numpy import asarray\n",
    "from numpy import save\n",
    "from numpy import load\n",
    "\n",
    "from keras.preprocessing.image import load_img\n",
    "from keras.preprocessing.image import img_to_array\n",
    "\n",
    "from PIL import Image\n",
    "\n",
    "import io\n",
    "\n",
    "import os\n",
    "from os import makedirs\n",
    "from os import listdir\n",
    "\n",
    "import shutil\n",
    "from shutil import copyfile\n",
    "\n",
    "\n",
    "import random\n",
    "from random import seed\n",
    "from random import random\n",
    "\n",
    "from matplotlib import pyplot\n",
    "from matplotlib.image import imread"
   ]
  },
  {
   "cell_type": "code",
   "execution_count": null,
   "metadata": {},
   "outputs": [],
   "source": [
    "# define location of dataset\n",
    "folder = 'data/train/'\n",
    "# plot first few images\n",
    "for i in range(9):\n",
    "    # define subplot\n",
    "    pyplot.subplot(330 + 1 + i)\n",
    "    # define filename\n",
    "    filename = folder + 'river_' + str(i) + '.png'\n",
    "    # load image pixels\n",
    "    image = imread(filename)\n",
    "    # plot raw pixel data\n",
    "    pyplot.imshow(image)\n",
    "# show the figure\n",
    "pyplot.show()"
   ]
  },
  {
   "cell_type": "code",
   "execution_count": null,
   "metadata": {},
   "outputs": [],
   "source": [
    "# define location of dataset\n",
    "folder = 'data/train/'\n",
    "tr_images, tr_labels = [], []\n",
    "# enumerate files in the directory\n",
    "for file in listdir(folder):\n",
    "    # determine class\n",
    "    if file.startswith('city'):\n",
    "        output = 0.0\n",
    "    elif file.startswith('park'):\n",
    "        output = 1.0\n",
    "    elif file.startswith('river'):\n",
    "        output = 2.0\n",
    "    elif file.startswith('seaside'):\n",
    "        output = 3.0\n",
    "    # load image\n",
    "    #with open(path, 'rb') as f:\n",
    "        tr_image = load_img(folder + file, target_size=(224, 224))\n",
    "    # convert to numpy array\n",
    "        tr_image = img_to_array(tr_image)\n",
    "    # store\n",
    "        tr_images = np.append(tr_images,tr_image)\n",
    "               \n",
    "        tr_labels = np.append(tr_labels, output)\n",
    "        \n",
    "# convert to a numpy arrays\n",
    "tr_images = asarray(tr_images)\n",
    "tr_labels = asarray(tr_labels)\n",
    "print(tr_images.shape, tr_labels.shape)\n",
    "# save the reshaped images\n",
    "save('train_running_routes.npy', tr_images)\n",
    "save('train_running_routes.npy', tr_labels)"
   ]
  },
  {
   "cell_type": "code",
   "execution_count": null,
   "metadata": {},
   "outputs": [],
   "source": [
    "# test dataset\n",
    "folder = 'data/test/'\n",
    "te_images, te_labels = [], []\n",
    "\n",
    "for file in listdir(folder):\n",
    "    # determine class\n",
    "    if file.startswith('city'):\n",
    "        output = 0.0\n",
    "    elif file.startswith('park'):\n",
    "        output = 1.0\n",
    "    elif file.startswith('river'):\n",
    "        output = 2.0\n",
    "    elif file.startswith('seaside'):\n",
    "        output = 3.0\n",
    "\n",
    "        te_image = load_img(folder + file, target_size=(224, 224))\n",
    "        te_image = img_to_array(te_image)\n",
    "        te_images = np.append(te_images,te_image)            \n",
    "        te_labels = np.append(te_labels, output)\n",
    "        \n",
    "# convert to a numpy arrays\n",
    "te_images = asarray(te_images)\n",
    "te_labels = asarray(te_labels)\n",
    "print(te_images.shape, te_labels.shape)\n",
    "# save the reshaped images\n",
    "save('test_running_routes.npy', te_images)\n",
    "save('test_running_routes.npy', te_labels)"
   ]
  },
  {
   "cell_type": "code",
   "execution_count": null,
   "metadata": {},
   "outputs": [],
   "source": [
    "#load and confirm the shape\n",
    "#from numpy import load\n",
    "images = load('train_running_routes.npy')\n",
    "labels = load('train_running_routes.npy')\n",
    "print(images.shape, labels.shape)"
   ]
  },
  {
   "cell_type": "code",
   "execution_count": null,
   "metadata": {},
   "outputs": [],
   "source": [
    "images = load('test_running_routes.npy')\n",
    "labels = load('test_running_routes.npy')\n",
    "print(images.shape, labels.shape)"
   ]
  },
  {
   "cell_type": "markdown",
   "metadata": {},
   "source": [
    "### Creating Dataset Directories "
   ]
  },
  {
   "cell_type": "code",
   "execution_count": null,
   "metadata": {},
   "outputs": [],
   "source": [
    "#creating directories\n",
    "dataset_home = 'running_routes/'\n",
    "subdirs = ['train/', 'val/', 'test/']\n",
    "for subdir in subdirs:\n",
    "    #create label subdicretories:\n",
    "    labeldirs = ['city_run/','park_run/', 'riverside_run/', 'seaside_run/']\n",
    "    for lbldir in labeldirs:\n",
    "        newdir = dataset_home + subdir + lbldir\n",
    "        makedirs(newdir, exist_ok=True)"
   ]
  },
  {
   "cell_type": "markdown",
   "metadata": {},
   "source": [
    "### Train & Validation Dataset"
   ]
  },
  {
   "cell_type": "code",
   "execution_count": null,
   "metadata": {},
   "outputs": [],
   "source": [
    "# seed random number generator\n",
    "import random\n",
    "from random import seed\n",
    "seed(1)\n",
    "# define ratio of picture to use for validation\n",
    "val_ratio = 0.2\n",
    "# copy training dataset iages into subdirectories\n",
    "src_directory = 'data/train/'\n",
    "for file in listdir(src_directory):\n",
    "    src = src_directory + '/' + file\n",
    "    dst_dir = 'train/'\n",
    "    if random.random() < val_ratio:\n",
    "        dst_dir = 'val/'\n",
    "    if file.startswith('city'):\n",
    "        dst_dir = dataset_home + dst_dir + 'city_run/' + file\n",
    "        copyfile(src, dst_dir)\n",
    "    elif file.startswith('park'):\n",
    "        dst_dir = dataset_home + dst_dir + 'park_run/' + file\n",
    "        copyfile(src, dst_dir)\n",
    "    elif file.startswith('river'):\n",
    "        dst_dir = dataset_home + dst_dir + 'riverside_run/' + file\n",
    "        copyfile(src, dst_dir)\n",
    "    elif file.startswith('seaside'):\n",
    "        dst_dir = dataset_home + dst_dir + 'seaside_run/' + file\n",
    "        copyfile(src, dst_dir)"
   ]
  },
  {
   "cell_type": "markdown",
   "metadata": {},
   "source": [
    "### Test Dataset"
   ]
  },
  {
   "cell_type": "code",
   "execution_count": null,
   "metadata": {},
   "outputs": [],
   "source": [
    "src_directory = 'data/test/'\n",
    "for file in listdir(src_directory):\n",
    "    src = src_directory + '/' + file\n",
    "    dst_dir = 'test/'\n",
    "    if file.startswith('city'):\n",
    "        dst_dir = dataset_home + dst_dir + 'city_run/' + file\n",
    "        copyfile(src, dst_dir)\n",
    "    elif file.startswith('park'):\n",
    "        dst_dir = dataset_home + dst_dir + 'park_run/' + file\n",
    "        copyfile(src, dst_dir)\n",
    "    elif file.startswith('river'):\n",
    "        dst_dir = dataset_home + dst_dir + 'riverside_run/' + file\n",
    "        copyfile(src, dst_dir)\n",
    "    elif file.startswith('seaside'):\n",
    "        dst_dir = dataset_home + dst_dir + 'seaside_run/' + file\n",
    "        copyfile(src, dst_dir)"
   ]
  },
  {
   "cell_type": "markdown",
   "metadata": {},
   "source": [
    "### Final Train (train + validation) Dataset"
   ]
  },
  {
   "cell_type": "code",
   "execution_count": null,
   "metadata": {},
   "outputs": [],
   "source": [
    "dataset_home = 'running_routes/'\n",
    "subdirs = ['final_train/']\n",
    "for subdir in subdirs:\n",
    "    #create label subdicretories:\n",
    "    labeldirs = ['city_run/','park_run/', 'riverside_run/', 'seaside_run/']\n",
    "    for lbldir in labeldirs:\n",
    "        newdir = dataset_home + subdir + lbldir\n",
    "        makedirs(newdir, exist_ok=True)"
   ]
  },
  {
   "cell_type": "code",
   "execution_count": null,
   "metadata": {},
   "outputs": [],
   "source": [
    "import os\n",
    "import shutil\n",
    "for root, dirs, files in os.walk('/Users/carlamoestafa/Documents/GitHub/project-5/running_routes/train/city_run'):  \n",
    "    for file in files:\n",
    "        path_file = os.path.join(root,file)\n",
    "        shutil.copy2(path_file,'/Users/carlamoestafa/Documents/GitHub/project-5/running_routes/final_train/city_run')\n",
    "for root, dirs, files in os.walk('/Users/carlamoestafa/Documents/GitHub/project-5/running_routes/train/seaside_run'):  \n",
    "    for file in files:\n",
    "        path_file = os.path.join(root,file)\n",
    "        shutil.copy2(path_file,'/Users/carlamoestafa/Documents/GitHub/project-5/running_routes/final_train/seaside_run')\n",
    "for root, dirs, files in os.walk('/Users/carlamoestafa/Documents/GitHub/project-5/running_routes/train/park_run'):  \n",
    "    for file in files:\n",
    "        path_file = os.path.join(root,file)\n",
    "        shutil.copy2(path_file,'/Users/carlamoestafa/Documents/GitHub/project-5/running_routes/final_train/park_run')  \n",
    "for root, dirs, files in os.walk('/Users/carlamoestafa/Documents/GitHub/project-5/running_routes/train/riverside_run'):  \n",
    "    for file in files:\n",
    "        path_file = os.path.join(root,file)\n",
    "        shutil.copy2(path_file,'/Users/carlamoestafa/Documents/GitHub/project-5/running_routes/final_train/riverside_run')\n",
    "\n"
   ]
  },
  {
   "cell_type": "code",
   "execution_count": null,
   "metadata": {},
   "outputs": [],
   "source": [
    "import os\n",
    "import shutil\n",
    "for root, dirs, files in os.walk('/Users/carlamoestafa/Documents/GitHub/project-5/running_routes/val/city_run'):  \n",
    "    for file in files:\n",
    "        path_file = os.path.join(root,file)\n",
    "        shutil.copy2(path_file,'/Users/carlamoestafa/Documents/GitHub/project-5/running_routes/final_train/city_run')\n",
    "for root, dirs, files in os.walk('/Users/carlamoestafa/Documents/GitHub/project-5/running_routes/val/seaside_run'):  \n",
    "    for file in files:\n",
    "        path_file = os.path.join(root,file)\n",
    "        shutil.copy2(path_file,'/Users/carlamoestafa/Documents/GitHub/project-5/running_routes/final_train/seaside_run')\n",
    "for root, dirs, files in os.walk('/Users/carlamoestafa/Documents/GitHub/project-5/running_routes/val/park_run'):  \n",
    "    for file in files:\n",
    "        path_file = os.path.join(root,file)\n",
    "        shutil.copy2(path_file,'/Users/carlamoestafa/Documents/GitHub/project-5/running_routes/final_train/park_run')  \n",
    "for root, dirs, files in os.walk('/Users/carlamoestafa/Documents/GitHub/project-5/running_routes/val/riverside_run'):  \n",
    "    for file in files:\n",
    "        path_file = os.path.join(root,file)\n",
    "        shutil.copy2(path_file,'/Users/carlamoestafa/Documents/GitHub/project-5/running_routes/final_train/riverside_run')"
   ]
  },
  {
   "cell_type": "code",
   "execution_count": null,
   "metadata": {},
   "outputs": [],
   "source": [
    "final_train = '/Users/carlamoestafa/Documents/GitHub/project-5/running_routes/final_train/city_run'\n",
    "\n",
    "count = 0\n",
    "for path in os.listdir(final_train):\n",
    "    if os.path.isfile(os.path.join(final_train, path)):\n",
    "        count += 1\n",
    "count"
   ]
  },
  {
   "cell_type": "code",
   "execution_count": null,
   "metadata": {},
   "outputs": [],
   "source": []
  }
 ],
 "metadata": {
  "kernelspec": {
   "display_name": "Python 3",
   "language": "python",
   "name": "python3"
  },
  "language_info": {
   "codemirror_mode": {
    "name": "ipython",
    "version": 3
   },
   "file_extension": ".py",
   "mimetype": "text/x-python",
   "name": "python",
   "nbconvert_exporter": "python",
   "pygments_lexer": "ipython3",
   "version": "3.8.3"
  }
 },
 "nbformat": 4,
 "nbformat_minor": 4
}
